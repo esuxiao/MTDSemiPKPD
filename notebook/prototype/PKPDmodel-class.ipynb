{
 "cells": [
  {
   "attachments": {},
   "cell_type": "markdown",
   "metadata": {},
   "source": [
    "# Prototype - PKPD model class \n",
    "\n",
    "\n",
    "* `PKPD_model object`: encapsulate all the information of PK-PD model, including:\n",
    "\n",
    "    * Dosing information: dosage and correspoinding time\n",
    "    * PK model type\n",
    "    * PK model parameters\n",
    "    * PD model type\n",
    "    * PK model parameters"
   ]
  },
  {
   "attachments": {},
   "cell_type": "markdown",
   "metadata": {},
   "source": [
    "## Source files"
   ]
  },
  {
   "cell_type": "code",
   "execution_count": 12,
   "metadata": {
    "vscode": {
     "languageId": "r"
    }
   },
   "outputs": [],
   "source": [
    "rm(list = ls())\n",
    "\n",
    "source_all_files <- function(path){\n",
    "  files <- list.files(path)\n",
    "  for(i in 1:length(files)){\n",
    "    full_path <- paste(path, files[i],sep=\"\")\n",
    "    source(full_path)\n",
    "  }\n",
    "}\n",
    "### Load the new version\n",
    "library(ggplot2)\n",
    "library(MTDSemiPKPD)\n",
    "new_verrsion_path <- 'C:/Users/Xiao/Documents/Xiao_folder/GitHub/MTDSemiPKPD/MTDSemiPKPD/R/'\n",
    "source_all_files(new_verrsion_path)"
   ]
  },
  {
   "attachments": {},
   "cell_type": "markdown",
   "metadata": {},
   "source": [
    "## Create `PKPD_model` object"
   ]
  },
  {
   "cell_type": "code",
   "execution_count": 13,
   "metadata": {
    "vscode": {
     "languageId": "r"
    }
   },
   "outputs": [],
   "source": [
    "k10 <- 3\n",
    "Vc <- 2\n",
    "Emax <- 1.25\n",
    "ED50 <- 2\n",
    "gamma <- 0.5\n",
    "\n",
    "pkpd_model_obj <- PKPD_model.create(\n",
    "    administration_dosage = c(0.1,0.1,0.1, 0.1),\n",
    "    administration_timepoint =  c(0, 7, 14, 21),\n",
    "    PK_model_type = 'IV',\n",
    "    PK_model_parms = c(k10, Vc),\n",
    "    PD_model_type = 'Emax',\n",
    "    PD_model_parms = c(Emax, ED50, gamma)\n",
    "    )"
   ]
  },
  {
   "attachments": {},
   "cell_type": "markdown",
   "metadata": {},
   "source": [
    "## Test "
   ]
  },
  {
   "cell_type": "code",
   "execution_count": 14,
   "metadata": {
    "vscode": {
     "languageId": "r"
    }
   },
   "outputs": [
    {
     "data": {
      "text/html": [
       "0.517766952966369"
      ],
      "text/latex": [
       "0.517766952966369"
      ],
      "text/markdown": [
       "0.517766952966369"
      ],
      "text/plain": [
       "[1] 0.517767"
      ]
     },
     "metadata": {},
     "output_type": "display_data"
    }
   ],
   "source": [
    "Emax_ind(1, pkpd_model_obj$PD_model_parms)\n"
   ]
  },
  {
   "cell_type": "code",
   "execution_count": 15,
   "metadata": {
    "vscode": {
     "languageId": "r"
    }
   },
   "outputs": [
    {
     "data": {
      "text/html": [
       "0.0370409110340859"
      ],
      "text/latex": [
       "0.0370409110340859"
      ],
      "text/markdown": [
       "0.0370409110340859"
      ],
      "text/plain": [
       "[1] 0.03704091"
      ]
     },
     "metadata": {},
     "output_type": "display_data"
    }
   ],
   "source": [
    "CtIV_i_ind(0.1, \n",
    "    pkpd_model_obj$administration_timepoint, \n",
    "    pkpd_model_obj$administration_dosage, \n",
    "    pkpd_model_obj$PK_model_parms)"
   ]
  },
  {
   "cell_type": "code",
   "execution_count": 16,
   "metadata": {
    "vscode": {
     "languageId": "r"
    }
   },
   "outputs": [
    {
     "data": {
      "text/html": [
       "0.386943500441647"
      ],
      "text/latex": [
       "0.386943500441647"
      ],
      "text/markdown": [
       "0.386943500441647"
      ],
      "text/plain": [
       "[1] 0.3869435"
      ]
     },
     "metadata": {},
     "output_type": "display_data"
    }
   ],
   "source": [
    "F_Emax_IV_ind(1000, \n",
    "    pkpd_model_obj$administration_timepoint, \n",
    "    pkpd_model_obj$administration_dosage,\n",
    "    pkpd_model_obj$PK_model_parms,\n",
    "    pkpd_model_obj$PD_model_parms\n",
    ")\n"
   ]
  },
  {
   "cell_type": "code",
   "execution_count": null,
   "metadata": {
    "vscode": {
     "languageId": "r"
    }
   },
   "outputs": [],
   "source": []
  },
  {
   "cell_type": "code",
   "execution_count": null,
   "metadata": {
    "vscode": {
     "languageId": "r"
    }
   },
   "outputs": [],
   "source": []
  }
 ],
 "metadata": {
  "kernelspec": {
   "display_name": "R",
   "language": "R",
   "name": "ir"
  },
  "language_info": {
   "codemirror_mode": "r",
   "file_extension": ".r",
   "mimetype": "text/x-r-source",
   "name": "R",
   "pygments_lexer": "r",
   "version": "4.2.1"
  },
  "orig_nbformat": 4
 },
 "nbformat": 4,
 "nbformat_minor": 2
}
