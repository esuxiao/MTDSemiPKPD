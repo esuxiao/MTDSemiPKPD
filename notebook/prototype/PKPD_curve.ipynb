{
 "cells": [
  {
   "attachments": {},
   "cell_type": "markdown",
   "metadata": {},
   "source": [
    "# Develop PKPD_curve functions\n"
   ]
  },
  {
   "cell_type": "code",
   "execution_count": 8,
   "metadata": {
    "vscode": {
     "languageId": "r"
    }
   },
   "outputs": [],
   "source": [
    "rm(list = ls())\n",
    "\n",
    "source_all_files <- function(path){\n",
    "  files <- list.files(path)\n",
    "  for(i in 1:length(files)){\n",
    "    full_path <- paste(path, files[i],sep=\"\")\n",
    "    source(full_path)\n",
    "  }\n",
    "}\n",
    "### Load the new version\n",
    "library(ggplot2)\n",
    "library(MTDSemiPKPD)\n",
    "new_verrsion_path <- 'C:/Users/Xiao/Documents/Xiao_folder/GitHub/MTDSemiPKPD/MTDSemiPKPD/R/'\n",
    "source_all_files(new_verrsion_path)"
   ]
  },
  {
   "attachments": {},
   "cell_type": "markdown",
   "metadata": {},
   "source": [
    "## Emax + IV model"
   ]
  },
  {
   "cell_type": "code",
   "execution_count": 9,
   "metadata": {
    "vscode": {
     "languageId": "r"
    }
   },
   "outputs": [],
   "source": [
    "k10 <- 3\n",
    "Vc <- 2\n",
    "Emax <- 1.25\n",
    "ED50 <- 2\n",
    "gamma <- 0.5\n",
    "\n",
    "pkpd_model_obj <- PKPD_model.create(\n",
    "    administration_dosage = c(0.1,0.1,0.1, 0.1),\n",
    "    administration_timepoint =  c(0, 7, 14, 21),\n",
    "    PK_model_type = 'IV',\n",
    "    PK_model_parms = c(k10, Vc),\n",
    "    PD_model_type = 'Emax',\n",
    "    PD_model_parms = c(Emax, ED50, gamma)\n",
    "    )"
   ]
  },
  {
   "cell_type": "code",
   "execution_count": 10,
   "metadata": {
    "vscode": {
     "languageId": "r"
    }
   },
   "outputs": [
    {
     "data": {
      "text/html": [
       "<style>\n",
       ".list-inline {list-style: none; margin:0; padding: 0}\n",
       ".list-inline>li {display: inline-block}\n",
       ".list-inline>li:not(:last-child)::after {content: \"\\00b7\"; padding: 0 .5ex}\n",
       "</style>\n",
       "<ol class=list-inline><li>0</li><li>0.000123937608833318</li><li>3.07210617666411e-07</li><li>7.61498987235632e-10</li><li>0.00248935342028076</li></ol>\n"
      ],
      "text/latex": [
       "\\begin{enumerate*}\n",
       "\\item 0\n",
       "\\item 0.000123937608833318\n",
       "\\item 3.07210617666411e-07\n",
       "\\item 7.61498987235632e-10\n",
       "\\item 0.00248935342028076\n",
       "\\end{enumerate*}\n"
      ],
      "text/markdown": [
       "1. 0\n",
       "2. 0.000123937608833318\n",
       "3. 3.07210617666411e-07\n",
       "4. 7.61498987235632e-10\n",
       "5. 0.00248935342028076\n",
       "\n",
       "\n"
      ],
      "text/plain": [
       "[1] 0.000000e+00 1.239376e-04 3.072106e-07 7.614990e-10 2.489353e-03"
      ]
     },
     "metadata": {},
     "output_type": "display_data"
    }
   ],
   "source": [
    "PKPDmodel.PK_curve(pkpd_model_obj, c(0,2,4,6,8))"
   ]
  },
  {
   "cell_type": "code",
   "execution_count": 11,
   "metadata": {
    "vscode": {
     "languageId": "r"
    }
   },
   "outputs": [
    {
     "data": {
      "text/html": [
       "<style>\n",
       ".list-inline {list-style: none; margin:0; padding: 0}\n",
       ".list-inline>li {display: inline-block}\n",
       ".list-inline>li:not(:last-child)::after {content: \"\\00b7\"; padding: 0 .5ex}\n",
       "</style>\n",
       "<ol class=list-inline><li>0</li><li>0.625</li><li>0.732233047033631</li><li>0.792468245269452</li><li>0.833333333333333</li></ol>\n"
      ],
      "text/latex": [
       "\\begin{enumerate*}\n",
       "\\item 0\n",
       "\\item 0.625\n",
       "\\item 0.732233047033631\n",
       "\\item 0.792468245269452\n",
       "\\item 0.833333333333333\n",
       "\\end{enumerate*}\n"
      ],
      "text/markdown": [
       "1. 0\n",
       "2. 0.625\n",
       "3. 0.732233047033631\n",
       "4. 0.792468245269452\n",
       "5. 0.833333333333333\n",
       "\n",
       "\n"
      ],
      "text/plain": [
       "[1] 0.0000000 0.6250000 0.7322330 0.7924682 0.8333333"
      ]
     },
     "metadata": {},
     "output_type": "display_data"
    }
   ],
   "source": [
    "PKPDmodel.PD_curve(pkpd_model_obj, c(0,2,4,6,8))"
   ]
  },
  {
   "cell_type": "code",
   "execution_count": 12,
   "metadata": {
    "vscode": {
     "languageId": "r"
    }
   },
   "outputs": [
    {
     "data": {
      "text/html": [
       "<style>\n",
       ".list-inline {list-style: none; margin:0; padding: 0}\n",
       ".list-inline>li {display: inline-block}\n",
       ".list-inline>li:not(:last-child)::after {content: \"\\00b7\"; padding: 0 .5ex}\n",
       "</style>\n",
       "<ol class=list-inline><li>0</li><li>0.00976317738596984</li><li>0.000489714483172063</li><li>2.43905282292361e-05</li><li>0.0425971438486092</li></ol>\n"
      ],
      "text/latex": [
       "\\begin{enumerate*}\n",
       "\\item 0\n",
       "\\item 0.00976317738596984\n",
       "\\item 0.000489714483172063\n",
       "\\item 2.43905282292361e-05\n",
       "\\item 0.0425971438486092\n",
       "\\end{enumerate*}\n"
      ],
      "text/markdown": [
       "1. 0\n",
       "2. 0.00976317738596984\n",
       "3. 0.000489714483172063\n",
       "4. 2.43905282292361e-05\n",
       "5. 0.0425971438486092\n",
       "\n",
       "\n"
      ],
      "text/plain": [
       "[1] 0.000000e+00 9.763177e-03 4.897145e-04 2.439053e-05 4.259714e-02"
      ]
     },
     "metadata": {},
     "output_type": "display_data"
    },
    {
     "data": {
      "text/html": [
       "<style>\n",
       ".list-inline {list-style: none; margin:0; padding: 0}\n",
       ".list-inline>li {display: inline-block}\n",
       ".list-inline>li:not(:last-child)::after {content: \"\\00b7\"; padding: 0 .5ex}\n",
       "</style>\n",
       "<ol class=list-inline><li>1</li><li>0.890659633889499</li><li>0.885147726377085</li><li>0.884873125538934</li><li>0.805930591771988</li></ol>\n"
      ],
      "text/latex": [
       "\\begin{enumerate*}\n",
       "\\item 1\n",
       "\\item 0.890659633889499\n",
       "\\item 0.885147726377085\n",
       "\\item 0.884873125538934\n",
       "\\item 0.805930591771988\n",
       "\\end{enumerate*}\n"
      ],
      "text/markdown": [
       "1. 1\n",
       "2. 0.890659633889499\n",
       "3. 0.885147726377085\n",
       "4. 0.884873125538934\n",
       "5. 0.805930591771988\n",
       "\n",
       "\n"
      ],
      "text/plain": [
       "[1] 1.0000000 0.8906596 0.8851477 0.8848731 0.8059306"
      ]
     },
     "metadata": {},
     "output_type": "display_data"
    },
    {
     "data": {
      "text/html": [
       "<style>\n",
       ".list-inline {list-style: none; margin:0; padding: 0}\n",
       ".list-inline>li {display: inline-block}\n",
       ".list-inline>li:not(:last-child)::after {content: \"\\00b7\"; padding: 0 .5ex}\n",
       "</style>\n",
       "<ol class=list-inline><li>0</li><li>0.109340366110501</li><li>0.114852273622915</li><li>0.115126874461066</li><li>0.194069408228012</li></ol>\n"
      ],
      "text/latex": [
       "\\begin{enumerate*}\n",
       "\\item 0\n",
       "\\item 0.109340366110501\n",
       "\\item 0.114852273622915\n",
       "\\item 0.115126874461066\n",
       "\\item 0.194069408228012\n",
       "\\end{enumerate*}\n"
      ],
      "text/markdown": [
       "1. 0\n",
       "2. 0.109340366110501\n",
       "3. 0.114852273622915\n",
       "4. 0.115126874461066\n",
       "5. 0.194069408228012\n",
       "\n",
       "\n"
      ],
      "text/plain": [
       "[1] 0.0000000 0.1093404 0.1148523 0.1151269 0.1940694"
      ]
     },
     "metadata": {},
     "output_type": "display_data"
    }
   ],
   "source": [
    "PKPDmodel.PKPD_curve(pkpd_model_obj, c(0,2,4,6,8), curve_type = 'h')\n",
    "PKPDmodel.PKPD_curve(pkpd_model_obj, c(0,2,4,6,8), curve_type = 'S')\n",
    "PKPDmodel.PKPD_curve(pkpd_model_obj, c(0,2,4,6,8), curve_type = 'F')"
   ]
  }
 ],
 "metadata": {
  "kernelspec": {
   "display_name": "R",
   "language": "R",
   "name": "ir"
  },
  "language_info": {
   "codemirror_mode": "r",
   "file_extension": ".r",
   "mimetype": "text/x-r-source",
   "name": "R",
   "pygments_lexer": "r",
   "version": "4.2.1"
  },
  "orig_nbformat": 4
 },
 "nbformat": 4,
 "nbformat_minor": 2
}
